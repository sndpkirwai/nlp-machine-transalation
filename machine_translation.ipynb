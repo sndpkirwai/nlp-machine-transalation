{
 "cells": [
  {
   "cell_type": "markdown",
   "metadata": {
    "collapsed": true
   },
   "source": [
    "# Artificial Intelligence Nanodegree\n",
    "## Machine Translation Project\n",
    "In this notebook, sections that end with **'(IMPLEMENTATION)'** in the header indicate that the following blocks of code will require additional functionality which you must provide. Please be sure to read the instructions carefully!\n",
    "\n",
    "## Introduction\n",
    "In this notebook, you will build a deep neural network that functions as part of an end-to-end machine translation pipeline. Your completed pipeline will accept English text as input and return the French translation.\n",
    "\n",
    "- **Preprocess** - You'll convert text to sequence of integers.\n",
    "- **Models** Create models which accepts a sequence of integers as input and returns a probability distribution over possible translations. After learning about the basic types of neural networks that are often used for machine translation, you will engage in your own investigations, to design your own model!\n",
    "- **Prediction** Run the model on English text."
   ]
  },
  {
   "cell_type": "code",
   "execution_count": 1,
   "metadata": {},
   "outputs": [],
   "source": [
    "%load_ext autoreload\n",
    "%aimport helper, tests\n",
    "%autoreload 1"
   ]
  },
  {
   "cell_type": "code",
   "execution_count": 2,
   "metadata": {},
   "outputs": [
    {
     "name": "stderr",
     "output_type": "stream",
     "text": [
      "Using TensorFlow backend.\n"
     ]
    }
   ],
   "source": [
    "import collections\n",
    "\n",
    "import helper\n",
    "import numpy as np\n",
    "import project_tests as tests\n",
    "\n",
    "from keras.preprocessing.text import Tokenizer\n",
    "from keras.preprocessing.sequence import pad_sequences\n",
    "from keras.models import Model\n",
    "from keras.layers import GRU, Input, Dense, TimeDistributed, Activation, RepeatVector, Bidirectional\n",
    "from keras.layers.embeddings import Embedding\n",
    "from keras.optimizers import Adam\n",
    "from keras.losses import sparse_categorical_crossentropy"
   ]
  },
  {
   "cell_type": "markdown",
   "metadata": {},
   "source": [
    "### Verify access to the GPU\n",
    "The following test applies only if you expect to be using a GPU, e.g., while running in a Udacity Workspace or using an AWS instance with GPU support. Run the next cell, and verify that the device_type is \"GPU\".\n",
    "- If the device is not GPU & you are running from a Udacity Workspace, then save your workspace with the icon at the top, then click \"enable\" at the bottom of the workspace.\n",
    "- If the device is not GPU & you are running from an AWS instance, then refer to the cloud computing instructions in the classroom to verify your setup steps."
   ]
  },
  {
   "cell_type": "code",
   "execution_count": 3,
   "metadata": {},
   "outputs": [
    {
     "name": "stdout",
     "output_type": "stream",
     "text": [
      "[name: \"/cpu:0\"\n",
      "device_type: \"CPU\"\n",
      "memory_limit: 268435456\n",
      "locality {\n",
      "}\n",
      "incarnation: 13374762516605786836\n",
      ", name: \"/gpu:0\"\n",
      "device_type: \"GPU\"\n",
      "memory_limit: 357433344\n",
      "locality {\n",
      "  bus_id: 1\n",
      "}\n",
      "incarnation: 15885659604081428376\n",
      "physical_device_desc: \"device: 0, name: Tesla K80, pci bus id: 0000:00:04.0\"\n",
      "]\n"
     ]
    }
   ],
   "source": [
    "from tensorflow.python.client import device_lib\n",
    "print(device_lib.list_local_devices())"
   ]
  },
  {
   "cell_type": "markdown",
   "metadata": {},
   "source": [
    "## Dataset\n",
    "We begin by investigating the dataset that will be used to train and evaluate your pipeline.  The most common datasets used for machine translation are from [WMT](http://www.statmt.org/).  However, that will take a long time to train a neural network on.  We'll be using a dataset we created for this project that contains a small vocabulary.  You'll be able to train your model in a reasonable time with this dataset.\n",
    "### Load Data\n",
    "The data is located in `data/small_vocab_en` and `data/small_vocab_fr`. The `small_vocab_en` file contains English sentences with their French translations in the `small_vocab_fr` file. Load the English and French data from these files from running the cell below."
   ]
  },
  {
   "cell_type": "code",
   "execution_count": 4,
   "metadata": {},
   "outputs": [
    {
     "name": "stdout",
     "output_type": "stream",
     "text": [
      "Dataset Loaded\n"
     ]
    }
   ],
   "source": [
    "# Load English data\n",
    "english_sentences = helper.load_data('data/small_vocab_en')\n",
    "# Load French data\n",
    "french_sentences = helper.load_data('data/small_vocab_fr')\n",
    "\n",
    "print('Dataset Loaded')"
   ]
  },
  {
   "cell_type": "markdown",
   "metadata": {},
   "source": [
    "### Files\n",
    "Each line in `small_vocab_en` contains an English sentence with the respective translation in each line of `small_vocab_fr`.  View the first two lines from each file."
   ]
  },
  {
   "cell_type": "code",
   "execution_count": 5,
   "metadata": {},
   "outputs": [
    {
     "name": "stdout",
     "output_type": "stream",
     "text": [
      "small_vocab_en Line 1:  new jersey is sometimes quiet during autumn , and it is snowy in april .\n",
      "small_vocab_fr Line 1:  new jersey est parfois calme pendant l' automne , et il est neigeux en avril .\n",
      "small_vocab_en Line 2:  the united states is usually chilly during july , and it is usually freezing in november .\n",
      "small_vocab_fr Line 2:  les états-unis est généralement froid en juillet , et il gèle habituellement en novembre .\n"
     ]
    }
   ],
   "source": [
    "for sample_i in range(2):\n",
    "    print('small_vocab_en Line {}:  {}'.format(sample_i + 1, english_sentences[sample_i]))\n",
    "    print('small_vocab_fr Line {}:  {}'.format(sample_i + 1, french_sentences[sample_i]))"
   ]
  },
  {
   "cell_type": "markdown",
   "metadata": {},
   "source": [
    "From looking at the sentences, you can see they have been preprocessed already.  The puncuations have been delimited using spaces. All the text have been converted to lowercase.  This should save you some time, but the text requires more preprocessing.\n",
    "### Vocabulary\n",
    "The complexity of the problem is determined by the complexity of the vocabulary.  A more complex vocabulary is a more complex problem.  Let's look at the complexity of the dataset we'll be working with."
   ]
  },
  {
   "cell_type": "code",
   "execution_count": 6,
   "metadata": {},
   "outputs": [
    {
     "name": "stdout",
     "output_type": "stream",
     "text": [
      "1823250 English words.\n",
      "227 unique English words.\n",
      "10 Most common words in the English dataset:\n",
      "\"is\" \",\" \".\" \"in\" \"it\" \"during\" \"the\" \"but\" \"and\" \"sometimes\"\n",
      "\n",
      "1961295 French words.\n",
      "355 unique French words.\n",
      "10 Most common words in the French dataset:\n",
      "\"est\" \".\" \",\" \"en\" \"il\" \"les\" \"mais\" \"et\" \"la\" \"parfois\"\n"
     ]
    }
   ],
   "source": [
    "english_words_counter = collections.Counter([word for sentence in english_sentences for word in sentence.split()])\n",
    "french_words_counter = collections.Counter([word for sentence in french_sentences for word in sentence.split()])\n",
    "\n",
    "print('{} English words.'.format(len([word for sentence in english_sentences for word in sentence.split()])))\n",
    "print('{} unique English words.'.format(len(english_words_counter)))\n",
    "print('10 Most common words in the English dataset:')\n",
    "print('\"' + '\" \"'.join(list(zip(*english_words_counter.most_common(10)))[0]) + '\"')\n",
    "print()\n",
    "print('{} French words.'.format(len([word for sentence in french_sentences for word in sentence.split()])))\n",
    "print('{} unique French words.'.format(len(french_words_counter)))\n",
    "print('10 Most common words in the French dataset:')\n",
    "print('\"' + '\" \"'.join(list(zip(*french_words_counter.most_common(10)))[0]) + '\"')"
   ]
  },
  {
   "cell_type": "markdown",
   "metadata": {},
   "source": [
    "For comparison, _Alice's Adventures in Wonderland_ contains 2,766 unique words of a total of 15,500 words.\n",
    "## Preprocess\n",
    "For this project, you won't use text data as input to your model. Instead, you'll convert the text into sequences of integers using the following preprocess methods:\n",
    "1. Tokenize the words into ids\n",
    "2. Add padding to make all the sequences the same length.\n",
    "\n",
    "Time to start preprocessing the data...\n",
    "### Tokenize (IMPLEMENTATION)\n",
    "For a neural network to predict on text data, it first has to be turned into data it can understand. Text data like \"dog\" is a sequence of ASCII character encodings.  Since a neural network is a series of multiplication and addition operations, the input data needs to be number(s).\n",
    "\n",
    "We can turn each character into a number or each word into a number.  These are called character and word ids, respectively.  Character ids are used for character level models that generate text predictions for each character.  A word level model uses word ids that generate text predictions for each word.  Word level models tend to learn better, since they are lower in complexity, so we'll use those.\n",
    "\n",
    "Turn each sentence into a sequence of words ids using Keras's [`Tokenizer`](https://keras.io/preprocessing/text/#tokenizer) function. Use this function to tokenize `english_sentences` and `french_sentences` in the cell below.\n",
    "\n",
    "Running the cell will run `tokenize` on sample data and show output for debugging."
   ]
  },
  {
   "cell_type": "code",
   "execution_count": 7,
   "metadata": {},
   "outputs": [
    {
     "name": "stdout",
     "output_type": "stream",
     "text": [
      "{'the': 1, 'quick': 2, 'a': 3, 'brown': 4, 'fox': 5, 'jumps': 6, 'over': 7, 'lazy': 8, 'dog': 9, 'by': 10, 'jove': 11, 'my': 12, 'study': 13, 'of': 14, 'lexicography': 15, 'won': 16, 'prize': 17, 'this': 18, 'is': 19, 'short': 20, 'sentence': 21}\n",
      "\n",
      "Sequence 1 in x\n",
      "  Input:  The quick brown fox jumps over the lazy dog .\n",
      "  Output: [1, 2, 4, 5, 6, 7, 1, 8, 9]\n",
      "Sequence 2 in x\n",
      "  Input:  By Jove , my quick study of lexicography won a prize .\n",
      "  Output: [10, 11, 12, 2, 13, 14, 15, 16, 3, 17]\n",
      "Sequence 3 in x\n",
      "  Input:  This is a short sentence .\n",
      "  Output: [18, 19, 3, 20, 21]\n"
     ]
    }
   ],
   "source": [
    "def tokenize(x):\n",
    "    \"\"\"\n",
    "    Tokenize x\n",
    "    :param x: List of sentences/strings to be tokenized\n",
    "    :return: Tuple of (tokenized x data, tokenizer used to tokenize x)\n",
    "    \"\"\"\n",
    "    # TODO: Implement\n",
    "    \n",
    "    x_tkn = Tokenizer()\n",
    "    x_tkn.fit_on_texts(x)\n",
    "    \n",
    "    return x_tkn.texts_to_sequences(x), x_tkn\n",
    "tests.test_tokenize(tokenize)\n",
    "\n",
    "# Tokenize Example output\n",
    "text_sentences = [\n",
    "    'The quick brown fox jumps over the lazy dog .',\n",
    "    'By Jove , my quick study of lexicography won a prize .',\n",
    "    'This is a short sentence .']\n",
    "text_tokenized, text_tokenizer = tokenize(text_sentences)\n",
    "print(text_tokenizer.word_index)\n",
    "print()\n",
    "for sample_i, (sent, token_sent) in enumerate(zip(text_sentences, text_tokenized)):\n",
    "    print('Sequence {} in x'.format(sample_i + 1))\n",
    "    print('  Input:  {}'.format(sent))\n",
    "    print('  Output: {}'.format(token_sent))"
   ]
  },
  {
   "cell_type": "markdown",
   "metadata": {},
   "source": [
    "### Padding (IMPLEMENTATION)\n",
    "When batching the sequence of word ids together, each sequence needs to be the same length.  Since sentences are dynamic in length, we can add padding to the end of the sequences to make them the same length.\n",
    "\n",
    "Make sure all the English sequences have the same length and all the French sequences have the same length by adding padding to the **end** of each sequence using Keras's [`pad_sequences`](https://keras.io/preprocessing/sequence/#pad_sequences) function."
   ]
  },
  {
   "cell_type": "code",
   "execution_count": 8,
   "metadata": {},
   "outputs": [
    {
     "name": "stdout",
     "output_type": "stream",
     "text": [
      "Sequence 1 in x\n",
      "  Input:  [1 2 4 5 6 7 1 8 9]\n",
      "  Output: [1 2 4 5 6 7 1 8 9 0]\n",
      "Sequence 2 in x\n",
      "  Input:  [10 11 12  2 13 14 15 16  3 17]\n",
      "  Output: [10 11 12  2 13 14 15 16  3 17]\n",
      "Sequence 3 in x\n",
      "  Input:  [18 19  3 20 21]\n",
      "  Output: [18 19  3 20 21  0  0  0  0  0]\n"
     ]
    }
   ],
   "source": [
    "def pad(x, length=None):\n",
    "    \"\"\"\n",
    "    Pad x\n",
    "    :param x: List of sequences.\n",
    "    :param length: Length to pad the sequence to.  If None, use length of longest sequence in x.\n",
    "    :return: Padded numpy array of sequences\n",
    "    \"\"\"\n",
    "    # TODO: Implement\n",
    "    if length is None:\n",
    "        length = max([len(sentence) for sentence in x])\n",
    "    return pad_sequences(x, maxlen=length, padding='post')\n",
    "\n",
    "tests.test_pad(pad)\n",
    "\n",
    "# Pad Tokenized output\n",
    "test_pad = pad(text_tokenized)\n",
    "for sample_i, (token_sent, pad_sent) in enumerate(zip(text_tokenized, test_pad)):\n",
    "    print('Sequence {} in x'.format(sample_i + 1))\n",
    "    print('  Input:  {}'.format(np.array(token_sent)))\n",
    "    print('  Output: {}'.format(pad_sent))"
   ]
  },
  {
   "cell_type": "markdown",
   "metadata": {},
   "source": [
    "### Preprocess Pipeline\n",
    "Your focus for this project is to build neural network architecture, so we won't ask you to create a preprocess pipeline.  Instead, we've provided you with the implementation of the `preprocess` function."
   ]
  },
  {
   "cell_type": "code",
   "execution_count": 9,
   "metadata": {},
   "outputs": [
    {
     "name": "stdout",
     "output_type": "stream",
     "text": [
      "Data Preprocessed\n",
      "Max English sentence length: 15\n",
      "Max French sentence length: 21\n",
      "English vocabulary size: 199\n",
      "French vocabulary size: 344\n"
     ]
    }
   ],
   "source": [
    "def preprocess(x, y):\n",
    "    \"\"\"\n",
    "    Preprocess x and y\n",
    "    :param x: Feature List of sentences\n",
    "    :param y: Label List of sentences\n",
    "    :return: Tuple of (Preprocessed x, Preprocessed y, x tokenizer, y tokenizer)\n",
    "    \"\"\"\n",
    "    preprocess_x, x_tk = tokenize(x)\n",
    "    preprocess_y, y_tk = tokenize(y)\n",
    "\n",
    "    preprocess_x = pad(preprocess_x)\n",
    "    preprocess_y = pad(preprocess_y)\n",
    "\n",
    "    # Keras's sparse_categorical_crossentropy function requires the labels to be in 3 dimensions\n",
    "    preprocess_y = preprocess_y.reshape(*preprocess_y.shape, 1)\n",
    "\n",
    "    return preprocess_x, preprocess_y, x_tk, y_tk\n",
    "\n",
    "preproc_english_sentences, preproc_french_sentences, english_tokenizer, french_tokenizer =\\\n",
    "    preprocess(english_sentences, french_sentences)\n",
    "    \n",
    "max_english_sequence_length = preproc_english_sentences.shape[1]\n",
    "max_french_sequence_length = preproc_french_sentences.shape[1]\n",
    "english_vocab_size = len(english_tokenizer.word_index)\n",
    "french_vocab_size = len(french_tokenizer.word_index)\n",
    "\n",
    "print('Data Preprocessed')\n",
    "print(\"Max English sentence length:\", max_english_sequence_length)\n",
    "print(\"Max French sentence length:\", max_french_sequence_length)\n",
    "print(\"English vocabulary size:\", english_vocab_size)\n",
    "print(\"French vocabulary size:\", french_vocab_size)"
   ]
  },
  {
   "cell_type": "markdown",
   "metadata": {},
   "source": [
    "## Models\n",
    "In this section, you will experiment with various neural network architectures.\n",
    "You will begin by training four relatively simple architectures.\n",
    "- Model 1 is a simple RNN\n",
    "- Model 2 is a RNN with Embedding\n",
    "- Model 3 is a Bidirectional RNN\n",
    "- Model 4 is an optional Encoder-Decoder RNN\n",
    "\n",
    "After experimenting with the four simple architectures, you will construct a deeper architecture that is designed to outperform all four models.\n",
    "### Ids Back to Text\n",
    "The neural network will be translating the input to words ids, which isn't the final form we want.  We want the French translation.  The function `logits_to_text` will bridge the gab between the logits from the neural network to the French translation.  You'll be using this function to better understand the output of the neural network."
   ]
  },
  {
   "cell_type": "code",
   "execution_count": 10,
   "metadata": {},
   "outputs": [
    {
     "name": "stdout",
     "output_type": "stream",
     "text": [
      "`logits_to_text` function loaded.\n"
     ]
    }
   ],
   "source": [
    "def logits_to_text(logits, tokenizer):\n",
    "    \"\"\"\n",
    "    Turn logits from a neural network into text using the tokenizer\n",
    "    :param logits: Logits from a neural network\n",
    "    :param tokenizer: Keras Tokenizer fit on the labels\n",
    "    :return: String that represents the text of the logits\n",
    "    \"\"\"\n",
    "    index_to_words = {id: word for word, id in tokenizer.word_index.items()}\n",
    "    index_to_words[0] = '<PAD>'\n",
    "\n",
    "    return ' '.join([index_to_words[prediction] for prediction in np.argmax(logits, 1)])\n",
    "\n",
    "print('`logits_to_text` function loaded.')"
   ]
  },
  {
   "cell_type": "markdown",
   "metadata": {},
   "source": [
    "### Model 1: RNN (IMPLEMENTATION)\n",
    "![RNN](images/rnn.png)\n",
    "A basic RNN model is a good baseline for sequence data.  In this model, you'll build a RNN that translates English to French."
   ]
  },
  {
   "cell_type": "code",
   "execution_count": 37,
   "metadata": {},
   "outputs": [
    {
     "name": "stdout",
     "output_type": "stream",
     "text": [
      "Train on 110288 samples, validate on 27573 samples\n",
      "Epoch 1/10\n",
      "110288/110288 [==============================] - 24s 220us/step - loss: 2.4008 - acc: 0.5024 - val_loss: 1.5829 - val_acc: 0.5860\n",
      "Epoch 2/10\n",
      "110288/110288 [==============================] - 23s 207us/step - loss: 1.5828 - acc: 0.5854 - val_loss: 1.4371 - val_acc: 0.5961\n",
      "Epoch 3/10\n",
      "110288/110288 [==============================] - 23s 208us/step - loss: 1.3846 - acc: 0.6124 - val_loss: 1.5659 - val_acc: 0.5833\n",
      "Epoch 4/10\n",
      "110288/110288 [==============================] - 23s 208us/step - loss: 1.2743 - acc: 0.6315 - val_loss: 1.6879 - val_acc: 0.5786\n",
      "Epoch 5/10\n",
      "110288/110288 [==============================] - 23s 209us/step - loss: 1.1909 - acc: 0.6467 - val_loss: 1.8832 - val_acc: 0.5574\n",
      "Epoch 6/10\n",
      "110288/110288 [==============================] - 23s 209us/step - loss: 1.1315 - acc: 0.6572 - val_loss: 2.0752 - val_acc: 0.5547\n",
      "Epoch 7/10\n",
      "110288/110288 [==============================] - 23s 208us/step - loss: 1.0850 - acc: 0.6657 - val_loss: 2.3162 - val_acc: 0.5550\n",
      "Epoch 8/10\n",
      "110288/110288 [==============================] - 23s 209us/step - loss: 1.0480 - acc: 0.6726 - val_loss: 2.5656 - val_acc: 0.5546\n",
      "Epoch 9/10\n",
      "110288/110288 [==============================] - 23s 209us/step - loss: 1.0130 - acc: 0.6796 - val_loss: 2.7123 - val_acc: 0.5491\n",
      "Epoch 10/10\n",
      "110288/110288 [==============================] - 23s 208us/step - loss: 0.9844 - acc: 0.6858 - val_loss: 2.9159 - val_acc: 0.5488\n",
      "new jersey est parfois neigeux en juin mais il est agréable en l' <PAD> <PAD> <PAD> <PAD> <PAD> <PAD> <PAD> <PAD>\n"
     ]
    }
   ],
   "source": [
    "from keras.models import Model, Sequential\n",
    "from keras.layers import Dropout\n",
    "def simple_model(input_shape, output_sequence_length, english_vocab_size, french_vocab_size):\n",
    "    \"\"\"\n",
    "    Build and train a basic RNN on x and y\n",
    "    :param input_shape: Tuple of input shape\n",
    "    :param output_sequence_length: Length of output sequence\n",
    "    :param english_vocab_size: Number of unique English words in the dataset\n",
    "    :param french_vocab_size: Number of unique French words in the dataset\n",
    "    :return: Keras model built, but not trained\n",
    "    \"\"\"\n",
    "    # TODO: Build the layers\n",
    "    learning_rate = 0.001\n",
    "    \n",
    "    model = Sequential()\n",
    "    model.add(GRU(512, dropout=0.2,input_shape=input_shape[1:], return_sequences=True))\n",
    "    model.add(Dense(french_vocab_size*2, activation='relu'))\n",
    "    model.add(Dropout(0.2)) \n",
    "    model.add(Dense(french_vocab_size, activation='softmax'))\n",
    "    \n",
    "    # Compile the model   \n",
    "    model.compile(loss=sparse_categorical_crossentropy,\n",
    "                  optimizer=Adam(learning_rate),\n",
    "                  metrics=['accuracy'])\n",
    "    return model\n",
    "tests.test_simple_model(simple_model)\n",
    "\n",
    "# Reshaping the input to work with a basic RNN\n",
    "tmp_x = pad(preproc_english_sentences, max_french_sequence_length)\n",
    "tmp_x = tmp_x.reshape((-1, preproc_french_sentences.shape[-2], 1))\n",
    "\n",
    "# Train the neural network\n",
    "simple_rnn_model = simple_model(\n",
    "    tmp_x.shape,\n",
    "    max_french_sequence_length,\n",
    "    english_vocab_size +1,\n",
    "    french_vocab_size +1)\n",
    "simple_rnn_model.fit(tmp_x, preproc_french_sentences, batch_size=1024, epochs=10, validation_split=0.2)\n",
    "\n",
    "# Print prediction(s)\n",
    "print(logits_to_text(simple_rnn_model.predict(tmp_x[:1])[0], french_tokenizer))"
   ]
  },
  {
   "cell_type": "code",
   "execution_count": 33,
   "metadata": {},
   "outputs": [
    {
     "data": {
      "text/plain": [
       "\"new jersey est parfois calme pendant l' automne , et il est neigeux en avril .\""
      ]
     },
     "execution_count": 33,
     "metadata": {},
     "output_type": "execute_result"
    }
   ],
   "source": [
    "french_sentences[0]"
   ]
  },
  {
   "cell_type": "markdown",
   "metadata": {},
   "source": [
    "### Model 2: Embedding (IMPLEMENTATION)\n",
    "![RNN](images/embedding.png)\n",
    "You've turned the words into ids, but there's a better representation of a word.  This is called word embeddings.  An embedding is a vector representation of the word that is close to similar words in n-dimensional space, where the n represents the size of the embedding vectors.\n",
    "\n",
    "In this model, you'll create a RNN model using embedding."
   ]
  },
  {
   "cell_type": "code",
   "execution_count": 38,
   "metadata": {},
   "outputs": [
    {
     "data": {
      "text/plain": [
       "344"
      ]
     },
     "execution_count": 38,
     "metadata": {},
     "output_type": "execute_result"
    }
   ],
   "source": [
    "max(english_vocab_size, french_vocab_size)"
   ]
  },
  {
   "cell_type": "code",
   "execution_count": 53,
   "metadata": {},
   "outputs": [
    {
     "name": "stdout",
     "output_type": "stream",
     "text": [
      "Train on 110288 samples, validate on 27573 samples\n",
      "Epoch 1/15\n",
      "110288/110288 [==============================] - 14s 125us/step - loss: 2.9312 - acc: 0.4451 - val_loss: 2.0370 - val_acc: 0.5292\n",
      "Epoch 2/15\n",
      "110288/110288 [==============================] - 12s 107us/step - loss: 1.4319 - acc: 0.6429 - val_loss: 0.9661 - val_acc: 0.7484\n",
      "Epoch 3/15\n",
      "110288/110288 [==============================] - 12s 107us/step - loss: 0.8648 - acc: 0.7585 - val_loss: 0.6842 - val_acc: 0.7977\n",
      "Epoch 4/15\n",
      "110288/110288 [==============================] - 12s 107us/step - loss: 0.6785 - acc: 0.7954 - val_loss: 0.5646 - val_acc: 0.8222\n",
      "Epoch 5/15\n",
      "110288/110288 [==============================] - 12s 108us/step - loss: 0.5791 - acc: 0.8173 - val_loss: 0.4815 - val_acc: 0.8456\n",
      "Epoch 6/15\n",
      "110288/110288 [==============================] - 12s 107us/step - loss: 0.5144 - acc: 0.8343 - val_loss: 0.4295 - val_acc: 0.8595\n",
      "Epoch 7/15\n",
      "110288/110288 [==============================] - 12s 107us/step - loss: 0.4652 - acc: 0.8483 - val_loss: 0.3898 - val_acc: 0.8719\n",
      "Epoch 8/15\n",
      "110288/110288 [==============================] - 12s 107us/step - loss: 0.4288 - acc: 0.8592 - val_loss: 0.3603 - val_acc: 0.8802\n",
      "Epoch 9/15\n",
      "110288/110288 [==============================] - 12s 107us/step - loss: 0.3998 - acc: 0.8678 - val_loss: 0.3389 - val_acc: 0.8861\n",
      "Epoch 10/15\n",
      "110288/110288 [==============================] - 12s 107us/step - loss: 0.3776 - acc: 0.8749 - val_loss: 0.3223 - val_acc: 0.8916\n",
      "Epoch 11/15\n",
      "110288/110288 [==============================] - 12s 107us/step - loss: 0.3587 - acc: 0.8807 - val_loss: 0.3047 - val_acc: 0.8971\n",
      "Epoch 12/15\n",
      "110288/110288 [==============================] - 12s 107us/step - loss: 0.3436 - acc: 0.8855 - val_loss: 0.2942 - val_acc: 0.9008\n",
      "Epoch 13/15\n",
      "110288/110288 [==============================] - 12s 107us/step - loss: 0.3299 - acc: 0.8898 - val_loss: 0.2810 - val_acc: 0.9059\n",
      "Epoch 14/15\n",
      "110288/110288 [==============================] - 12s 107us/step - loss: 0.3176 - acc: 0.8937 - val_loss: 0.2695 - val_acc: 0.9096\n",
      "Epoch 15/15\n",
      "110288/110288 [==============================] - 12s 107us/step - loss: 0.3071 - acc: 0.8971 - val_loss: 0.2623 - val_acc: 0.9117\n",
      "new jersey est parfois calme en cours de il automne et il avril avril <PAD> <PAD> <PAD> <PAD> <PAD> <PAD> <PAD>\n"
     ]
    }
   ],
   "source": [
    "def embed_model(input_shape, output_sequence_length, english_vocab_size, french_vocab_size):\n",
    "    \"\"\"\n",
    "    Build and train a RNN model using word embedding on x and y\n",
    "    :param input_shape: Tuple of input shape\n",
    "    :param output_sequence_length: Length of output sequence\n",
    "    :param english_vocab_size: Number of unique English words in the dataset\n",
    "    :param french_vocab_size: Number of unique French words in the dataset\n",
    "    :return: Keras model built, but not trained\n",
    "    \"\"\"\n",
    "    # TODO: Implement\n",
    "    \n",
    "    learning_rate = 0.001\n",
    "    momentum=0.9\n",
    "    input_dim = english_vocab_size \n",
    "    output_dim = english_vocab_size\n",
    "    \n",
    "    model = Sequential()\n",
    "    model.add(Embedding(english_vocab_size, 128, input_shape=input_shape[1:]))\n",
    "    model.add(GRU(128, dropout=0.2, return_sequences=True))#As this is feedback , we have to set it true\n",
    "    model.add(Dropout(0.2)) \n",
    "    model.add(TimeDistributed(Dense(french_vocab_size*2, activation='relu')))\n",
    "    model.add(TimeDistributed(Dense(french_vocab_size, activation='softmax')))\n",
    "\n",
    "    \n",
    "    # Compile the model   \n",
    "    model.compile(loss=sparse_categorical_crossentropy,\n",
    "                  optimizer=Adam(learning_rate, momentum),\n",
    "                  metrics=['accuracy'])\n",
    "    \n",
    "    \n",
    "    return model\n",
    "tests.test_embed_model(embed_model)\n",
    "\n",
    "tmp_x = pad(preproc_english_sentences, preproc_french_sentences.shape[1])\n",
    "\n",
    "\n",
    "# TODO: Train the neural network\n",
    "embedding_rnn_model = embed_model(\n",
    "    tmp_x.shape,\n",
    "    preproc_french_sentences.shape[1],\n",
    "    len(english_tokenizer.word_index) +1 ,\n",
    "    len(french_tokenizer.word_index) +1)\n",
    "embedding_rnn_model.fit(tmp_x, preproc_french_sentences, batch_size=1024, epochs=15, validation_split=0.2)\n",
    "\n",
    "# TODO: Print prediction(s)\n",
    "print(logits_to_text(embedding_rnn_model.predict(tmp_x[:1])[0], french_tokenizer))"
   ]
  },
  {
   "cell_type": "markdown",
   "metadata": {},
   "source": [
    "### Model 3: Bidirectional RNNs (IMPLEMENTATION)\n",
    "![RNN](images/bidirectional.png)\n",
    "One restriction of a RNN is that it can't see the future input, only the past.  This is where bidirectional recurrent neural networks come in.  They are able to see the future data."
   ]
  },
  {
   "cell_type": "code",
   "execution_count": 24,
   "metadata": {},
   "outputs": [
    {
     "name": "stdout",
     "output_type": "stream",
     "text": [
      "_________________________________________________________________\n",
      "Layer (type)                 Output Shape              Param #   \n",
      "=================================================================\n",
      "bidirectional_13 (Bidirectio (None, 21, 512)           528384    \n",
      "_________________________________________________________________\n",
      "time_distributed_8 (TimeDist (None, 21, 344)           176472    \n",
      "=================================================================\n",
      "Total params: 704,856\n",
      "Trainable params: 704,856\n",
      "Non-trainable params: 0\n",
      "_________________________________________________________________\n",
      "_________________________________________________________________\n",
      "Layer (type)                 Output Shape              Param #   \n",
      "=================================================================\n",
      "bidirectional_14 (Bidirectio (None, 21, 512)           528384    \n",
      "_________________________________________________________________\n",
      "time_distributed_9 (TimeDist (None, 21, 345)           176985    \n",
      "=================================================================\n",
      "Total params: 705,369\n",
      "Trainable params: 705,369\n",
      "Non-trainable params: 0\n",
      "_________________________________________________________________\n",
      "Train on 110288 samples, validate on 27573 samples\n",
      "Epoch 1/20\n",
      "110288/110288 [==============================] - 23s 204us/step - loss: 2.2448 - sparse_categorical_accuracy: 0.5262 - val_loss: 1.5503 - val_sparse_categorical_accuracy: 0.5976\n",
      "Epoch 2/20\n",
      "110288/110288 [==============================] - 21s 192us/step - loss: 1.4411 - sparse_categorical_accuracy: 0.6131 - val_loss: 1.3116 - val_sparse_categorical_accuracy: 0.6335\n",
      "Epoch 3/20\n",
      "110288/110288 [==============================] - 21s 192us/step - loss: 1.2842 - sparse_categorical_accuracy: 0.6363 - val_loss: 1.2206 - val_sparse_categorical_accuracy: 0.6457\n",
      "Epoch 4/20\n",
      "110288/110288 [==============================] - 21s 192us/step - loss: 1.2027 - sparse_categorical_accuracy: 0.6506 - val_loss: 1.1746 - val_sparse_categorical_accuracy: 0.6502\n",
      "Epoch 5/20\n",
      "110288/110288 [==============================] - 21s 192us/step - loss: 1.1502 - sparse_categorical_accuracy: 0.6618 - val_loss: 1.1430 - val_sparse_categorical_accuracy: 0.6575\n",
      "Epoch 6/20\n",
      "110288/110288 [==============================] - 21s 192us/step - loss: 1.1023 - sparse_categorical_accuracy: 0.6724 - val_loss: 1.1369 - val_sparse_categorical_accuracy: 0.6537\n",
      "Epoch 7/20\n",
      "110288/110288 [==============================] - 21s 192us/step - loss: 1.0624 - sparse_categorical_accuracy: 0.6804 - val_loss: 1.1435 - val_sparse_categorical_accuracy: 0.6489\n",
      "Epoch 8/20\n",
      "110288/110288 [==============================] - 21s 193us/step - loss: 1.0286 - sparse_categorical_accuracy: 0.6873 - val_loss: 1.0851 - val_sparse_categorical_accuracy: 0.6647\n",
      "Epoch 9/20\n",
      "110288/110288 [==============================] - 21s 193us/step - loss: 1.0008 - sparse_categorical_accuracy: 0.6922 - val_loss: 1.1153 - val_sparse_categorical_accuracy: 0.6539\n",
      "Epoch 10/20\n",
      "110288/110288 [==============================] - 21s 192us/step - loss: 0.9755 - sparse_categorical_accuracy: 0.6970 - val_loss: 1.0855 - val_sparse_categorical_accuracy: 0.6570\n",
      "Epoch 11/20\n",
      "110288/110288 [==============================] - 21s 192us/step - loss: 0.9551 - sparse_categorical_accuracy: 0.7005 - val_loss: 1.0512 - val_sparse_categorical_accuracy: 0.6609\n",
      "Epoch 12/20\n",
      "110288/110288 [==============================] - 21s 192us/step - loss: 0.9340 - sparse_categorical_accuracy: 0.7041 - val_loss: 1.0777 - val_sparse_categorical_accuracy: 0.6589\n",
      "Epoch 13/20\n",
      "110288/110288 [==============================] - 21s 193us/step - loss: 0.9178 - sparse_categorical_accuracy: 0.7068 - val_loss: 1.1028 - val_sparse_categorical_accuracy: 0.6502\n",
      "Epoch 14/20\n",
      "110288/110288 [==============================] - 21s 192us/step - loss: 0.9020 - sparse_categorical_accuracy: 0.7093 - val_loss: 1.1206 - val_sparse_categorical_accuracy: 0.6482\n",
      "Epoch 15/20\n",
      "110288/110288 [==============================] - 21s 191us/step - loss: 0.8884 - sparse_categorical_accuracy: 0.7115 - val_loss: 1.1245 - val_sparse_categorical_accuracy: 0.6494\n",
      "Epoch 16/20\n",
      "110288/110288 [==============================] - 21s 192us/step - loss: 0.8739 - sparse_categorical_accuracy: 0.7139 - val_loss: 1.1134 - val_sparse_categorical_accuracy: 0.6524\n",
      "Epoch 17/20\n",
      "110288/110288 [==============================] - 21s 193us/step - loss: 0.8617 - sparse_categorical_accuracy: 0.7168 - val_loss: 1.1242 - val_sparse_categorical_accuracy: 0.6472\n",
      "Epoch 18/20\n",
      "110288/110288 [==============================] - 21s 192us/step - loss: 0.8500 - sparse_categorical_accuracy: 0.7186 - val_loss: 1.1811 - val_sparse_categorical_accuracy: 0.6410\n",
      "Epoch 19/20\n",
      "110288/110288 [==============================] - 21s 193us/step - loss: 0.8371 - sparse_categorical_accuracy: 0.7217 - val_loss: 1.1686 - val_sparse_categorical_accuracy: 0.6406\n",
      "Epoch 20/20\n",
      "110288/110288 [==============================] - 21s 193us/step - loss: 0.8281 - sparse_categorical_accuracy: 0.7241 - val_loss: 1.1346 - val_sparse_categorical_accuracy: 0.6523\n",
      "new jersey est parfois pluvieux en l' et il est agréable en en <PAD> <PAD> <PAD> <PAD> <PAD> <PAD> <PAD> <PAD>\n"
     ]
    }
   ],
   "source": [
    "from keras.models import Model, Sequential\n",
    "from keras.layers import Dropout, LSTM\n",
    "\n",
    "def bd_model(input_shape, output_sequence_length, english_vocab_size, french_vocab_size):\n",
    "    \"\"\"\n",
    "    Build and train a bidirectional RNN model on x and y\n",
    "    :param input_shape: Tuple of input shape\n",
    "    :param output_sequence_length: Length of output sequence\n",
    "    :param english_vocab_size: Number of unique English words in the dataset\n",
    "    :param french_vocab_size: Number of unique French words in the dataset\n",
    "    :return: Keras model built, but not trained\n",
    "    \"\"\"\n",
    "    # TODO: Implement\n",
    "    model = Sequential()\n",
    "    # model.add(Embedding(max(english_vocab_size, french_vocab_size), 128, input_shape=input_shape[1:]))\n",
    "    model.add(Bidirectional(LSTM(256, dropout=0.05, return_sequences=True),input_shape=input_shape[1:]))\n",
    "    model.add(TimeDistributed(Dense(french_vocab_size, activation='softmax')))\n",
    "    model.summary()\n",
    "    \n",
    "    # Compile the model\n",
    "    learning_rate = 0.001\n",
    "    # momentum=0.9\n",
    "    model.compile(loss=sparse_categorical_crossentropy,\n",
    "                  optimizer=Adam(learning_rate\n",
    "                                 # , momentum\n",
    "                                ),\n",
    "                  metrics=['sparse_categorical_accuracy'])\n",
    "    \n",
    "    return model\n",
    "tests.test_bd_model(bd_model)\n",
    "\n",
    "\n",
    "# TODO: Train and Print prediction(s)\n",
    "tmp_x = pad(preproc_english_sentences, preproc_french_sentences.shape[1])\n",
    "tmp_x = tmp_x.reshape((-1, preproc_french_sentences.shape[-2], 1))\n",
    "\n",
    "# Train the neural network\n",
    "bd_rnn_model = bd_model(\n",
    "    tmp_x.shape,\n",
    "    preproc_french_sentences.shape[1],\n",
    "    len(english_tokenizer.word_index) +1,\n",
    "    len(french_tokenizer.word_index) +1\n",
    ")\n",
    "\n",
    "bd_rnn_model.fit(\n",
    "    tmp_x, \n",
    "    preproc_french_sentences, \n",
    "    batch_size=1024, \n",
    "    epochs=20, \n",
    "    validation_split=0.2\n",
    ")\n",
    "\n",
    "# Print prediction(s)\n",
    "print(logits_to_text(bd_rnn_model.predict(tmp_x[:1])[0], french_tokenizer))"
   ]
  },
  {
   "cell_type": "markdown",
   "metadata": {},
   "source": [
    "### Model 4: Encoder-Decoder (OPTIONAL)\n",
    "Time to look at encoder-decoder models.  This model is made up of an encoder and decoder. The encoder creates a matrix representation of the sentence.  The decoder takes this matrix as input and predicts the translation as output.\n",
    "\n",
    "Create an encoder-decoder model in the cell below."
   ]
  },
  {
   "cell_type": "code",
   "execution_count": 27,
   "metadata": {},
   "outputs": [
    {
     "name": "stdout",
     "output_type": "stream",
     "text": [
      "_________________________________________________________________\n",
      "Layer (type)                 Output Shape              Param #   \n",
      "=================================================================\n",
      "gru_1 (GRU)                  (None, 256)               198144    \n",
      "_________________________________________________________________\n",
      "repeat_vector_4 (RepeatVecto (None, 21, 256)           0         \n",
      "_________________________________________________________________\n",
      "gru_2 (GRU)                  (None, 21, 256)           393984    \n",
      "_________________________________________________________________\n",
      "time_distributed_13 (TimeDis (None, 21, 344)           88408     \n",
      "=================================================================\n",
      "Total params: 680,536\n",
      "Trainable params: 680,536\n",
      "Non-trainable params: 0\n",
      "_________________________________________________________________\n",
      "_________________________________________________________________\n",
      "Layer (type)                 Output Shape              Param #   \n",
      "=================================================================\n",
      "gru_3 (GRU)                  (None, 256)               198144    \n",
      "_________________________________________________________________\n",
      "repeat_vector_5 (RepeatVecto (None, 21, 256)           0         \n",
      "_________________________________________________________________\n",
      "gru_4 (GRU)                  (None, 21, 256)           393984    \n",
      "_________________________________________________________________\n",
      "time_distributed_14 (TimeDis (None, 21, 345)           88665     \n",
      "=================================================================\n",
      "Total params: 680,793\n",
      "Trainable params: 680,793\n",
      "Non-trainable params: 0\n",
      "_________________________________________________________________\n",
      "Train on 110288 samples, validate on 27573 samples\n",
      "Epoch 1/20\n",
      "110288/110288 [==============================] - 21s 190us/step - loss: 2.9576 - sparse_categorical_accuracy: 0.4435 - val_loss: 2.4115 - val_sparse_categorical_accuracy: 0.4791\n",
      "Epoch 2/20\n",
      "110288/110288 [==============================] - 20s 178us/step - loss: 2.2172 - sparse_categorical_accuracy: 0.5129 - val_loss: 1.9642 - val_sparse_categorical_accuracy: 0.5427\n",
      "Epoch 3/20\n",
      "110288/110288 [==============================] - 20s 178us/step - loss: 1.8208 - sparse_categorical_accuracy: 0.5527 - val_loss: 1.6644 - val_sparse_categorical_accuracy: 0.5681\n",
      "Epoch 4/20\n",
      "110288/110288 [==============================] - 20s 178us/step - loss: 1.6233 - sparse_categorical_accuracy: 0.5720 - val_loss: 1.5489 - val_sparse_categorical_accuracy: 0.5827\n",
      "Epoch 5/20\n",
      "110288/110288 [==============================] - 20s 178us/step - loss: 1.5181 - sparse_categorical_accuracy: 0.5898 - val_loss: 1.4616 - val_sparse_categorical_accuracy: 0.6025\n",
      "Epoch 6/20\n",
      "110288/110288 [==============================] - 20s 178us/step - loss: 1.4352 - sparse_categorical_accuracy: 0.6052 - val_loss: 1.4020 - val_sparse_categorical_accuracy: 0.6136\n",
      "Epoch 7/20\n",
      "110288/110288 [==============================] - 20s 178us/step - loss: 1.3753 - sparse_categorical_accuracy: 0.6167 - val_loss: 1.3597 - val_sparse_categorical_accuracy: 0.6127\n",
      "Epoch 8/20\n",
      "110288/110288 [==============================] - 20s 178us/step - loss: 1.3291 - sparse_categorical_accuracy: 0.6260 - val_loss: 1.3378 - val_sparse_categorical_accuracy: 0.6177\n",
      "Epoch 9/20\n",
      "110288/110288 [==============================] - 20s 178us/step - loss: 1.2980 - sparse_categorical_accuracy: 0.6299 - val_loss: 1.3792 - val_sparse_categorical_accuracy: 0.6081\n",
      "Epoch 10/20\n",
      "110288/110288 [==============================] - 20s 178us/step - loss: 1.2707 - sparse_categorical_accuracy: 0.6330 - val_loss: 1.3344 - val_sparse_categorical_accuracy: 0.6158\n",
      "Epoch 11/20\n",
      "110288/110288 [==============================] - 20s 178us/step - loss: 1.2473 - sparse_categorical_accuracy: 0.6361 - val_loss: 1.2711 - val_sparse_categorical_accuracy: 0.6282\n",
      "Epoch 12/20\n",
      "110288/110288 [==============================] - 20s 178us/step - loss: 1.2261 - sparse_categorical_accuracy: 0.6388 - val_loss: 1.2991 - val_sparse_categorical_accuracy: 0.6251\n",
      "Epoch 13/20\n",
      "110288/110288 [==============================] - 20s 178us/step - loss: 1.1987 - sparse_categorical_accuracy: 0.6432 - val_loss: 1.2904 - val_sparse_categorical_accuracy: 0.6247\n",
      "Epoch 14/20\n",
      "110288/110288 [==============================] - 20s 178us/step - loss: 1.1753 - sparse_categorical_accuracy: 0.6474 - val_loss: 1.3389 - val_sparse_categorical_accuracy: 0.6146\n",
      "Epoch 15/20\n",
      "110288/110288 [==============================] - 20s 178us/step - loss: 1.1610 - sparse_categorical_accuracy: 0.6502 - val_loss: 1.4053 - val_sparse_categorical_accuracy: 0.6056\n",
      "Epoch 16/20\n",
      "110288/110288 [==============================] - 20s 178us/step - loss: 1.1499 - sparse_categorical_accuracy: 0.6516 - val_loss: 1.3496 - val_sparse_categorical_accuracy: 0.6141\n",
      "Epoch 17/20\n",
      "110288/110288 [==============================] - 20s 178us/step - loss: 1.1258 - sparse_categorical_accuracy: 0.6552 - val_loss: 1.3850 - val_sparse_categorical_accuracy: 0.6113\n",
      "Epoch 18/20\n",
      "110288/110288 [==============================] - 20s 178us/step - loss: 1.1202 - sparse_categorical_accuracy: 0.6561 - val_loss: 1.4101 - val_sparse_categorical_accuracy: 0.6098\n",
      "Epoch 19/20\n",
      "110288/110288 [==============================] - 20s 178us/step - loss: 1.0910 - sparse_categorical_accuracy: 0.6634 - val_loss: 1.3708 - val_sparse_categorical_accuracy: 0.6230\n",
      "Epoch 20/20\n",
      "110288/110288 [==============================] - 20s 178us/step - loss: 1.0867 - sparse_categorical_accuracy: 0.6599 - val_loss: 1.3850 - val_sparse_categorical_accuracy: 0.6093\n",
      "new jersey est parfois froid au l' et il est est en mai <PAD> <PAD> <PAD> <PAD> <PAD> <PAD> <PAD> <PAD>\n"
     ]
    }
   ],
   "source": [
    "def encdec_model(input_shape, output_sequence_length, english_vocab_size, french_vocab_size):\n",
    "    \"\"\"\n",
    "    Build and train an encoder-decoder model on x and y\n",
    "    :param input_shape: Tuple of input shape\n",
    "    :param output_sequence_length: Length of output sequence\n",
    "    :param english_vocab_size: Number of unique English words in the dataset\n",
    "    :param french_vocab_size: Number of unique French words in the dataset\n",
    "    :return: Keras model built, but not trained\n",
    "    \"\"\"\n",
    "    # TODO: Implement\n",
    "    model = Sequential()\n",
    "    #encoder\n",
    "    model.add(GRU(256, dropout=0.1,input_shape=input_shape[1:]))\n",
    "    model.add(RepeatVector(output_sequence_length))\n",
    "    #decoder\n",
    "    model.add(GRU(256, dropout=0.1, return_sequences=True))\n",
    "    model.add(TimeDistributed(Dense(french_vocab_size, activation='softmax')))\n",
    "    model.summary()\n",
    "    \n",
    "    # Compile the model\n",
    "    learning_rate = 0.001\n",
    "    # momentum=0.9\n",
    "    model.compile(loss=sparse_categorical_crossentropy,\n",
    "                  optimizer=Adam(learning_rate\n",
    "                                 # , momentum\n",
    "                                ),\n",
    "                  metrics=['sparse_categorical_accuracy'])\n",
    "    \n",
    "    return model\n",
    "tests.test_encdec_model(encdec_model)\n",
    "\n",
    "\n",
    "# TODO: Train and Print prediction(s)\n",
    "tmp_x = pad(preproc_english_sentences, preproc_french_sentences.shape[1])\n",
    "tmp_x = tmp_x.reshape((-1, preproc_french_sentences.shape[-2], 1))\n",
    "\n",
    "# Train the neural network\n",
    "encdec_model = encdec_model(\n",
    "    tmp_x.shape,\n",
    "    preproc_french_sentences.shape[1],\n",
    "    len(english_tokenizer.word_index) +1,\n",
    "    len(french_tokenizer.word_index) +1\n",
    ")\n",
    "\n",
    "encdec_model.fit(\n",
    "    tmp_x, \n",
    "    preproc_french_sentences, \n",
    "    batch_size=1024, \n",
    "    epochs=20, \n",
    "    validation_split=0.2\n",
    ")\n",
    "\n",
    "# Print prediction(s)\n",
    "print(logits_to_text(encdec_model.predict(tmp_x[:1])[0], french_tokenizer))"
   ]
  },
  {
   "cell_type": "markdown",
   "metadata": {},
   "source": [
    "### Model 5: Custom (IMPLEMENTATION)\n",
    "Use everything you learned from the previous models to create a model that incorporates embedding and a bidirectional rnn into one model."
   ]
  },
  {
   "cell_type": "code",
   "execution_count": 33,
   "metadata": {},
   "outputs": [
    {
     "name": "stdout",
     "output_type": "stream",
     "text": [
      "_________________________________________________________________\n",
      "Layer (type)                 Output Shape              Param #   \n",
      "=================================================================\n",
      "embedding_8 (Embedding)      (None, 15, 256)           88064     \n",
      "_________________________________________________________________\n",
      "bidirectional_19 (Bidirectio (None, 512)               787968    \n",
      "_________________________________________________________________\n",
      "repeat_vector_8 (RepeatVecto (None, 21, 512)           0         \n",
      "_________________________________________________________________\n",
      "bidirectional_20 (Bidirectio (None, 21, 512)           1181184   \n",
      "_________________________________________________________________\n",
      "time_distributed_17 (TimeDis (None, 21, 512)           262656    \n",
      "_________________________________________________________________\n",
      "dropout_1 (Dropout)          (None, 21, 512)           0         \n",
      "_________________________________________________________________\n",
      "time_distributed_18 (TimeDis (None, 21, 344)           176472    \n",
      "=================================================================\n",
      "Total params: 2,496,344\n",
      "Trainable params: 2,496,344\n",
      "Non-trainable params: 0\n",
      "_________________________________________________________________\n",
      "Final Model Loaded\n"
     ]
    }
   ],
   "source": [
    "def model_final(input_shape, output_sequence_length, english_vocab_size, french_vocab_size):\n",
    "    \"\"\"\n",
    "    Build and train a model that incorporates embedding, encoder-decoder, and bidirectional RNN on x and y\n",
    "    :param input_shape: Tuple of input shape\n",
    "    :param output_sequence_length: Length of output sequence\n",
    "    :param english_vocab_size: Number of unique English words in the dataset\n",
    "    :param french_vocab_size: Number of unique French words in the dataset\n",
    "    :return: Keras model built, but not trained\n",
    "    \"\"\"\n",
    "    # TODO: Implement\n",
    "    \n",
    "    model = Sequential()\n",
    "    model.add(Embedding(max(english_vocab_size, french_vocab_size), 256, input_length=input_shape[1]))\n",
    "     #encoder\n",
    "    model.add(Bidirectional(GRU(256, return_sequences=False)))\n",
    "    model.add(RepeatVector(output_sequence_length))\n",
    "    \n",
    "    #decoder\n",
    "    model.add(Bidirectional(GRU(256, return_sequences=True)))\n",
    "    model.add(TimeDistributed(Dense(512, activation='relu')))\n",
    "    model.add(Dropout(0.2))\n",
    "    #output\n",
    "    model.add(TimeDistributed(Dense(french_vocab_size, activation='softmax')))\n",
    "    model.summary()\n",
    "    \n",
    "    # Compile the model\n",
    "    learning_rate = 0.001\n",
    "    # momentum=0.9\n",
    "    model.compile(loss=sparse_categorical_crossentropy,\n",
    "                  optimizer=Adam(learning_rate\n",
    "                                 # , momentum\n",
    "                                ),\n",
    "                  metrics=['sparse_categorical_accuracy'])\n",
    "    return model\n",
    "tests.test_model_final(model_final)\n",
    "\n",
    "\n",
    "print('Final Model Loaded')\n",
    "# TODO: Train the final model"
   ]
  },
  {
   "cell_type": "markdown",
   "metadata": {},
   "source": [
    "## Prediction (IMPLEMENTATION)"
   ]
  },
  {
   "cell_type": "code",
   "execution_count": 34,
   "metadata": {},
   "outputs": [
    {
     "name": "stdout",
     "output_type": "stream",
     "text": [
      "_________________________________________________________________\n",
      "Layer (type)                 Output Shape              Param #   \n",
      "=================================================================\n",
      "embedding_9 (Embedding)      (None, 21, 256)           88320     \n",
      "_________________________________________________________________\n",
      "bidirectional_21 (Bidirectio (None, 512)               787968    \n",
      "_________________________________________________________________\n",
      "repeat_vector_9 (RepeatVecto (None, 21, 512)           0         \n",
      "_________________________________________________________________\n",
      "bidirectional_22 (Bidirectio (None, 21, 512)           1181184   \n",
      "_________________________________________________________________\n",
      "time_distributed_19 (TimeDis (None, 21, 512)           262656    \n",
      "_________________________________________________________________\n",
      "dropout_2 (Dropout)          (None, 21, 512)           0         \n",
      "_________________________________________________________________\n",
      "time_distributed_20 (TimeDis (None, 21, 345)           176985    \n",
      "=================================================================\n",
      "Total params: 2,497,113\n",
      "Trainable params: 2,497,113\n",
      "Non-trainable params: 0\n",
      "_________________________________________________________________\n",
      "Train on 110288 samples, validate on 27573 samples\n",
      "Epoch 1/20\n",
      "110288/110288 [==============================] - 50s 457us/step - loss: 2.6602 - sparse_categorical_accuracy: 0.4697 - val_loss: 1.7195 - val_sparse_categorical_accuracy: 0.5676\n",
      "Epoch 2/20\n",
      "110288/110288 [==============================] - 48s 436us/step - loss: 1.5216 - sparse_categorical_accuracy: 0.6012 - val_loss: 1.2771 - val_sparse_categorical_accuracy: 0.6541\n",
      "Epoch 3/20\n",
      "110288/110288 [==============================] - 48s 436us/step - loss: 1.2515 - sparse_categorical_accuracy: 0.6569 - val_loss: 1.1171 - val_sparse_categorical_accuracy: 0.6842\n",
      "Epoch 4/20\n",
      "110288/110288 [==============================] - 48s 436us/step - loss: 1.0844 - sparse_categorical_accuracy: 0.6937 - val_loss: 0.9820 - val_sparse_categorical_accuracy: 0.7212\n",
      "Epoch 5/20\n",
      "110288/110288 [==============================] - 48s 436us/step - loss: 0.9919 - sparse_categorical_accuracy: 0.7140 - val_loss: 0.9183 - val_sparse_categorical_accuracy: 0.7326\n",
      "Epoch 6/20\n",
      "110288/110288 [==============================] - 48s 436us/step - loss: 0.9003 - sparse_categorical_accuracy: 0.7355 - val_loss: 0.8182 - val_sparse_categorical_accuracy: 0.7575\n",
      "Epoch 7/20\n",
      "110288/110288 [==============================] - 48s 436us/step - loss: 0.8420 - sparse_categorical_accuracy: 0.7491 - val_loss: 0.7590 - val_sparse_categorical_accuracy: 0.7721\n",
      "Epoch 8/20\n",
      "110288/110288 [==============================] - 48s 437us/step - loss: 0.7670 - sparse_categorical_accuracy: 0.7697 - val_loss: 0.7056 - val_sparse_categorical_accuracy: 0.7864\n",
      "Epoch 9/20\n",
      "110288/110288 [==============================] - 48s 438us/step - loss: 0.7086 - sparse_categorical_accuracy: 0.7848 - val_loss: 0.6458 - val_sparse_categorical_accuracy: 0.8009\n",
      "Epoch 10/20\n",
      "110288/110288 [==============================] - 48s 438us/step - loss: 0.6482 - sparse_categorical_accuracy: 0.7995 - val_loss: 0.6163 - val_sparse_categorical_accuracy: 0.8107\n",
      "Epoch 11/20\n",
      "110288/110288 [==============================] - 48s 438us/step - loss: 0.5945 - sparse_categorical_accuracy: 0.8150 - val_loss: 0.5169 - val_sparse_categorical_accuracy: 0.8412\n",
      "Epoch 12/20\n",
      "110288/110288 [==============================] - 48s 438us/step - loss: 0.5182 - sparse_categorical_accuracy: 0.8406 - val_loss: 0.4526 - val_sparse_categorical_accuracy: 0.8646\n",
      "Epoch 13/20\n",
      "110288/110288 [==============================] - 48s 437us/step - loss: 0.4517 - sparse_categorical_accuracy: 0.8628 - val_loss: 0.3947 - val_sparse_categorical_accuracy: 0.8818\n",
      "Epoch 14/20\n",
      "110288/110288 [==============================] - 48s 435us/step - loss: 0.4040 - sparse_categorical_accuracy: 0.8772 - val_loss: 0.3378 - val_sparse_categorical_accuracy: 0.9002\n",
      "Epoch 15/20\n",
      "110288/110288 [==============================] - 48s 435us/step - loss: 0.3441 - sparse_categorical_accuracy: 0.8963 - val_loss: 0.2948 - val_sparse_categorical_accuracy: 0.9141\n",
      "Epoch 16/20\n",
      "110288/110288 [==============================] - 48s 434us/step - loss: 0.3038 - sparse_categorical_accuracy: 0.9087 - val_loss: 0.2677 - val_sparse_categorical_accuracy: 0.9208\n",
      "Epoch 17/20\n",
      "110288/110288 [==============================] - 48s 435us/step - loss: 0.2699 - sparse_categorical_accuracy: 0.9197 - val_loss: 0.2267 - val_sparse_categorical_accuracy: 0.9352\n",
      "Epoch 18/20\n",
      "110288/110288 [==============================] - 48s 436us/step - loss: 0.2321 - sparse_categorical_accuracy: 0.9323 - val_loss: 0.2045 - val_sparse_categorical_accuracy: 0.9417\n",
      "Epoch 19/20\n",
      "110288/110288 [==============================] - 48s 436us/step - loss: 0.2064 - sparse_categorical_accuracy: 0.9405 - val_loss: 0.1709 - val_sparse_categorical_accuracy: 0.9531\n",
      "Epoch 20/20\n",
      "110288/110288 [==============================] - 48s 436us/step - loss: 0.1795 - sparse_categorical_accuracy: 0.9484 - val_loss: 0.1535 - val_sparse_categorical_accuracy: 0.9566\n",
      "Sample 1:\n",
      "il a vu un vieux camion jaune <PAD> <PAD> <PAD> <PAD> <PAD> <PAD> <PAD> <PAD> <PAD> <PAD> <PAD> <PAD> <PAD> <PAD>\n",
      "Il a vu un vieux camion jaune\n",
      "Sample 2:\n",
      "new jersey est parfois calme pendant l' automne et il est neigeux en avril <PAD> <PAD> <PAD> <PAD> <PAD> <PAD> <PAD>\n",
      "new jersey est parfois calme pendant l' automne et il est neigeux en avril <PAD> <PAD> <PAD> <PAD> <PAD> <PAD> <PAD>\n"
     ]
    }
   ],
   "source": [
    "def final_predictions(x, y, x_tk, y_tk):\n",
    "    \"\"\"\n",
    "    Gets predictions using the final model\n",
    "    :param x: Preprocessed English data\n",
    "    :param y: Preprocessed French data\n",
    "    :param x_tk: English tokenizer\n",
    "    :param y_tk: French tokenizer\n",
    "    \"\"\"\n",
    "    x = pad(x, y.shape[1])\n",
    "    # TODO: Train neural network using model_final\n",
    "    final_model = model_final(\n",
    "    x.shape,\n",
    "    y.shape[1],\n",
    "    len(x_tk.word_index) +1,\n",
    "    len(y_tk.word_index) +1\n",
    "    )\n",
    "\n",
    "    # Fit the final model\n",
    "    final_model.fit(x, y, batch_size=1024, epochs=20, validation_split=0.2)\n",
    "    \n",
    "    model = final_model\n",
    "    \n",
    "    ## DON'T EDIT ANYTHING BELOW THIS LINE\n",
    "    y_id_to_word = {value: key for key, value in y_tk.word_index.items()}\n",
    "    y_id_to_word[0] = '<PAD>'\n",
    "\n",
    "    sentence = 'he saw a old yellow truck'\n",
    "    sentence = [x_tk.word_index[word] for word in sentence.split()]\n",
    "    sentence = pad_sequences([sentence], maxlen=x.shape[-1], padding='post')\n",
    "    sentences = np.array([sentence[0], x[0]])\n",
    "    predictions = model.predict(sentences, len(sentences))\n",
    "\n",
    "    print('Sample 1:')\n",
    "    print(' '.join([y_id_to_word[np.argmax(x)] for x in predictions[0]]))\n",
    "    print('Il a vu un vieux camion jaune')\n",
    "    print('Sample 2:')\n",
    "    print(' '.join([y_id_to_word[np.argmax(x)] for x in predictions[1]]))\n",
    "    print(' '.join([y_id_to_word[np.max(x)] for x in y[0]]))\n",
    "\n",
    "\n",
    "final_predictions(preproc_english_sentences, preproc_french_sentences, english_tokenizer, french_tokenizer)"
   ]
  },
  {
   "cell_type": "markdown",
   "metadata": {},
   "source": [
    "## Submission\n",
    "When you're ready to submit, complete the following steps:\n",
    "1. Review the [rubric](https://review.udacity.com/#!/rubrics/1004/view) to ensure your submission meets all requirements to pass\n",
    "2. Generate an HTML version of this notebook\n",
    "\n",
    "  - Run the next cell to attempt automatic generation (this is the recommended method in Workspaces)\n",
    "  - Navigate to **FILE -> Download as -> HTML (.html)**\n",
    "  - Manually generate a copy using `nbconvert` from your shell terminal\n",
    "```\n",
    "$ pip install nbconvert\n",
    "$ python -m nbconvert machine_translation.ipynb\n",
    "```\n",
    "  \n",
    "3. Submit the project\n",
    "\n",
    "  - If you are in a Workspace, simply click the \"Submit Project\" button (bottom towards the right)\n",
    "  \n",
    "  - Otherwise, add the following files into a zip archive and submit them \n",
    "  - `helper.py`\n",
    "  - `machine_translation.ipynb`\n",
    "  - `machine_translation.html`\n",
    "    - You can export the notebook by navigating to **File -> Download as -> HTML (.html)**."
   ]
  },
  {
   "cell_type": "markdown",
   "metadata": {},
   "source": [
    "### Generate the html\n",
    "\n",
    "**Save your notebook before running the next cell to generate the HTML output.** Then submit your project."
   ]
  },
  {
   "cell_type": "code",
   "execution_count": 36,
   "metadata": {},
   "outputs": [
    {
     "data": {
      "text/plain": [
       "['[NbConvertApp] Converting notebook machine_translation.ipynb to html',\n",
       " '[NbConvertApp] Writing 385608 bytes to machine_translation.html',\n",
       " '[NbConvertApp] Converting notebook machine_translation-zh.ipynb to html',\n",
       " '[NbConvertApp] Writing 328614 bytes to machine_translation-zh.html']"
      ]
     },
     "execution_count": 36,
     "metadata": {},
     "output_type": "execute_result"
    }
   ],
   "source": [
    "# Save before you run this cell!\n",
    "!!jupyter nbconvert *.ipynb"
   ]
  },
  {
   "cell_type": "markdown",
   "metadata": {},
   "source": [
    "## Optional Enhancements\n",
    "\n",
    "This project focuses on learning various network architectures for machine translation, but we don't evaluate the models according to best practices by splitting the data into separate test & training sets -- so the model accuracy is overstated. Use the [`sklearn.model_selection.train_test_split()`](http://scikit-learn.org/stable/modules/generated/sklearn.model_selection.train_test_split.html) function to create separate training & test datasets, then retrain each of the models using only the training set and evaluate the prediction accuracy using the hold out test set. Does the \"best\" model change?"
   ]
  }
 ],
 "metadata": {
  "kernelspec": {
   "display_name": "Python 3",
   "language": "python",
   "name": "python3"
  },
  "language_info": {
   "codemirror_mode": {
    "name": "ipython",
    "version": 3
   },
   "file_extension": ".py",
   "mimetype": "text/x-python",
   "name": "python",
   "nbconvert_exporter": "python",
   "pygments_lexer": "ipython3",
   "version": "3.6.3"
  }
 },
 "nbformat": 4,
 "nbformat_minor": 1
}
